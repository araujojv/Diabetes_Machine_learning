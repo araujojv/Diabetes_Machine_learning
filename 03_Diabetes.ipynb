{
  "cells": [
    {
      "cell_type": "markdown",
      "metadata": {
        "id": "Mob_AWXcsVQV"
      },
      "source": [
        "# **DESAFIO 03 - Diabetes**\n",
        "\n",
        "**Contexto**\n",
        "\n",
        "O diabetes está entre as doenças crônicas mais prevalentes nos Estados Unidos, afetando milhões de americanos a cada ano e exercendo uma pressão financeira significativa sobre a economia. O diabetes é uma doença crônica grave na qual os indivíduos perdem a capacidade de regular efetivamente os níveis de glicose no sangue e pode levar à redução da qualidade de vida e da expectativa de vida. Depois que diferentes alimentos são decompostos em açúcares durante a digestão, esses açúcares são então liberados na corrente sanguínea, sinalizando ao pâncreas o momento para liberar insulina. A insulina ajuda a permitir que as células dentro do corpo usem esses açúcares na corrente sanguínea como energia. O diabetes é geralmente caracterizado pelo corpo não produzir insulina suficiente ou ser incapaz de usar a insulina que é produzida tão efetivamente quanto necessário.\n",
        "\n",
        "Complicações como doenças cardíacas, perda de visão, amputação de membros inferiores e doença renal estão associadas a níveis cronicamente altos de açúcar remanescentes na corrente sanguínea para aqueles com diabetes. Embora não haja cura, estratégias como perder peso, ter uma alimentação saudável, ser ativo e receber tratamentos médicos podem mitigar os danos da doença em muitos pacientes. O diagnóstico precoce pode levar a mudanças no estilo de vida e tratamento mais eficaz, tornando os modelos preditivos para risco de diabetes ferramentas importantes para autoridades públicas e de saúde pública.\n",
        "\n",
        "É também importante reconhecer o alcance efetivo do problema. Os Centros de Controle e Prevenção de Doenças indicaram que, em 2018, 34,2 milhões de americanos tinham diabetes e 88 milhões tinham pré-diabetes. Além disso, o CDC estima que 1 em cada 5 diabéticos e cerca de 8 em cada 10 pré-diabéticos não estão cientes de seu risco. Embora existam diferentes tipos de diabetes, o diabetes tipo II é a forma mais comum e sua prevalência varia de acordo com a idade, educação, renda, localização, raça e outros determinantes sociais da saúde. Porém, grande parte do peso da doença ainda recai sobre aqueles de menor status socioeconômico. O diabetes também representa um desafio enorme para a economia, com custos de pacientes diagnosticados de aproximadamente 327 bilhões de dólares e custos totais com diabetes não diagnosticado e pré-diabetes se aproximando de 400 bilhões de dólares anualmente.\n",
        "\n",
        "**Conteúdo**\n",
        "\n",
        "O Behavioral Risk Factor Surveillance System (BRFSS) é uma pesquisa telefônica relacionada à saúde, coletada anualmente pelo CDC. A cada ano, a pesquisa coleta respostas de mais de 400.000 americanos sobre comportamentos de risco relacionados à saúde, condições crônicas de saúde e uso de serviços preventivos. Ela é realizada todos os anos desde 1984. Para este desafio, temos um csv relacionado ao ano de 2015. As variáveis representam perguntas feitas diretamente ou variáveis ​calculadas com base nas respostas individuais dos participantes.\n",
        "\n",
        "**A base**\n",
        "\n",
        "A base pode carregada [daqui](https://github.com/cassiusf/datasets/raw/refs/heads/main/desafios/diabetes_health_indicators.csv) e o objetivo é prever se o paciente tem risco aumentado para diabetes ou não.\n",
        "\n",
        "O conjunto de dados possui 253.680 respostas de pesquisa para o BRFSS2015 do CDC. A variável alvo `Diabetes_012` tem 3 classes (0 é para nenhum diabetes ou apenas durante a gravidez, 1 é para pré-diabetes e 2 é para diabetes). O conjunto de dados tem 21 variáveis.\n",
        "\n",
        "Nome da variável Função Tipo Descrição demográfica Unidades Valores ausentes\n",
        "- **Diabetes_012** -  Variável alvo.\n",
        "- **HighBP** - 0 = sem PA alta, 1 = PA alta\n",
        "- **HighChol** - 0 = sem colesterol alto, 1 = colesterol alto\n",
        "- **CholCheck** - 0 = sem verificação de colesterol em 5 anos, 1 = sim verificação de colesterol em 5 anos\n",
        "- **BMI** - Índice de massa corporal\n",
        "- **Smoker** (Você fumou pelo menos 100 cigarros em toda a sua vida? [Observação: 5 maços = 100 cigarros]?) - 0 = não, 1 = sim\n",
        "- **Stroke** (Já teve ocorrência de derrame?) - 0 = não, 1 = sim\n",
        "- **HeartDiseaseorAttack** (Já teve Doença cardíaca coronária (CHD) ou infarto do miocárdio (IM)?) - 0 = não, 1 = sim\n",
        "- **PhysActivity** (Teve atividade física nos últimos 30 dias, não incluindo trabalho?) - 0 = não, 1 = sim\n",
        "- **Fruits** (Consome Frutas 1 ou mais vezes por dia?) - 0 = não, 1 = sim\n",
        "- **Veggies** - (Consome Vegetais 1 ou mais vezes por dia) - 0 = não, 1 = sim\n",
        "- **HvyAlcoholConsump** (Alto índice de bebidas alcoólicas. Homens adultos que tomam mais de 14 doses por semana e mulheres adultas que tomam mais de 7 doses por semana) - 0 = não, 1 = sim\n",
        "- **AnyHealthcare** (Tem algum tipo de cobertura de saúde, incluindo seguro saúde, planos pré-pagos como HMO, etc.?) - 0 = não, 1 = sim\n",
        "- **NoDocbcCost** (Houve algum momento nos últimos 12 meses quando você precisou consultar um médico, mas não pôde por causa do custo?) - 0 = não, 1 = sim\n",
        "- **GenHlth** (Você diria que, em geral, sua saúde é: Escala 1-5) - 1 = excelente, 2 = muito bom, 3 = bom, 4 = razoável, 5 = ruim\n",
        "- **MentHlth** (Pensando em sua saúde mental, que inclui estresse, depressão e problemas com emoções, por quantos dias nos últimos 30 dias sua saúde mental não foi boa? Escala) - 1-30 dias\n",
        "- **PhysHlth** (Pensando em sua saúde física, que inclui doenças físicas e lesões, por quantos dias nos últimos 30 dias sua saúde física não foi boa?) - Escala 1-30 dias\n",
        "- **DiffWalk** (Você tem sérias dificuldades para caminhar ou subir escadas?) - 0 = não, 1 = sim\n",
        "- **Sex** (Gênero) - 0 = feminino, 1 = masculino\n",
        "- **Age** (Categoria de idade) - 1 = 18-24, 9 = 60-64, 13 = 80 ou mais\n",
        "- **Education** (Nível de educação, escala 1-6) -  1 = Nunca frequentou a escola ou apenas o jardim de infância, 2 = 1ª à 8ª séries (Ensino fundamental), 3 = 9ª à 11ª séries (Ensino médio incompleto), 4 = 12ª série ou GED (Ensino médio completo), 5 = Faculdade de 1 a 3 anos (Faculdade completa ou escola técnica), 6 = Faculdade de 4 anos ou mais (Graduado)\n",
        "- **Income** - (Renda , escala 1-8) - 1 = menos de USD10.000, 5 = menos de USD35.000, 8 = USD75.000 ou mais\n"
      ]
    },
    {
      "cell_type": "markdown",
      "metadata": {
        "id": "_fbNBB4CwBnz"
      },
      "source": [
        "## **TAREFA**\n",
        "\n",
        "\n",
        "O desafio consiste em explorar as seguintes questões relevantes:\n",
        "\n",
        "- As perguntas da pesquisa podem fornecer previsões precisas sobre se um indivíduo tem ou não diabetes?\n",
        "- Quais fatores de risco são mais preditivos do risco de diabetes?\n",
        "- Podemos usar um subconjunto dos fatores de risco para prever com precisão se um indivíduo tem diabetes?\n",
        "\n",
        "Caso utilize algum modelo de machine learning rasa para para responder as perguntas, execute todas as etapas necessárias tanto na avaliação dos dados disponíveis quanto na preparação necessária para execução do modelo escolhido.\n",
        "\n",
        "Todas as etapas devem ser documentadas e as escolhas justificadas.\n",
        "\n",
        "A performance de um eventual modelo deverá ser avaliada pelas métricas Acurácia, Precision, Recall e F1-Score. Inclua em sua avaliação final de performance Curvas, ROC e/ou Precision-Recall, de acordo com a necessidade.\n",
        "\n",
        "**Está proibido, neste desafio, o uso de qualquer ferramentaque automatize processo, de análise e/ou modelagem. Todo o processo deve ser feito de forma artesanal, pensando em cada etapa e escolhendo o ferramental apropriado, com as devidas justificativas.**"
      ]
    },
    {
      "cell_type": "code",
      "execution_count": 1,
      "metadata": {},
      "outputs": [],
      "source": [
        "import pandas as pd \n",
        "import numpy as np\n",
        "\n",
        "df = pd.read_csv(\"https://raw.githubusercontent.com/cassiusf/datasets/refs/heads/main/desafios/diabetes_health_indicators.csv\")\n",
        "\n",
        "\n"
      ]
    },
    {
      "cell_type": "code",
      "execution_count": null,
      "metadata": {},
      "outputs": [],
      "source": []
    }
  ],
  "metadata": {
    "colab": {
      "provenance": []
    },
    "kernelspec": {
      "display_name": "Python 3",
      "name": "python3"
    },
    "language_info": {
      "codemirror_mode": {
        "name": "ipython",
        "version": 3
      },
      "file_extension": ".py",
      "mimetype": "text/x-python",
      "name": "python",
      "nbconvert_exporter": "python",
      "pygments_lexer": "ipython3",
      "version": "3.10.12"
    }
  },
  "nbformat": 4,
  "nbformat_minor": 0
}
